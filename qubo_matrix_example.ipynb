{
 "cells": [
  {
   "cell_type": "code",
   "execution_count": 13,
   "metadata": {},
   "outputs": [],
   "source": [
    "import networkx as nx\n",
    "import matplotlib.pyplot as plt\n",
    "from qrisp import *\n",
    "import numpy as np\n",
    "from sympy import Symbol\n"
   ]
  },
  {
   "cell_type": "code",
   "execution_count": 14,
   "metadata": {},
   "outputs": [],
   "source": [
    "def cost_symp(tot_coeff,n_parts,n_sites,Phi_graph):\n",
    "    \"\"\"\n",
    "    returns the sympy cost function and the dictionary for the variables\n",
    "    \"\"\"\n",
    "    combinations=list(tot_coeff[1].keys())\n",
    "\n",
    "    x = {str(r)+str(i): Symbol(f\"x{r}{i}\") for r in range(n_parts) for i in range(n_sites)}\n",
    "\n",
    "    cost=sum([ sum([ tot_coeff[r][(i,j)]*x[str(r)+str(i)]*x[str(s)+str(j)] for (i,j) in combinations]) for r,s in Phi_graph.edges()])\n",
    "\n",
    "    return cost,x\n",
    "\n",
    "\n",
    "# The following 2 methods are used to move from the one hot encoding of the states\n",
    "# to a binary one, in order to evaluate the cost function above.\n",
    "# This can be done surely better with some qrisp feature and it will be changed.\n",
    "\n",
    "def convert_to_binary(outcome_array):\n",
    "    binary_string = ''\n",
    "    for element in outcome_array:\n",
    "        binary_string += ''.join('1' if i == element else '0' for i in range(N-1 + 1))\n",
    "    return binary_string[::-1]\n",
    "\n",
    "\n",
    "def translate_encoding(outdic):\n",
    "    return {convert_to_binary(k):v  for k,v in outdic.items()}"
   ]
  },
  {
   "cell_type": "code",
   "execution_count": 15,
   "metadata": {},
   "outputs": [],
   "source": [
    "# Cost coefficients from Table.3\n",
    "cost_coeff={\n",
    "    1: {(0,1): 1.64,\n",
    "        (0,2): 1.05,\n",
    "        (1,2): 0.59,\n",
    "        },\n",
    "\n",
    "    2: {(0,1): 5.56,\n",
    "        (0,2): 3.54,\n",
    "        (1,2): 1.98,\n",
    "        },\n",
    "\n",
    "     3: {(0,1): 8.06,\n",
    "         (0,2): 5.14,\n",
    "         (1,2): 2.88,\n",
    "         },\n",
    "    }\n",
    "tot_coeff = {}\n",
    "\n",
    "for k,v in cost_coeff.items():\n",
    "  tot_coeff[k]={}\n",
    "  for rs,c in v.items():\n",
    "    i,j=rs[0],rs[1]\n",
    "    tot_coeff[k][(i,j)]=c\n",
    "    tot_coeff[k][(j,i)]=c"
   ]
  },
  {
   "cell_type": "code",
   "execution_count": 16,
   "metadata": {},
   "outputs": [
    {
     "data": {
      "text/latex": [
       "$\\displaystyle 1.64 x_{00} x_{11} + 1.05 x_{00} x_{12} + 5.56 x_{00} x_{21} + 3.54 x_{00} x_{22} + 1.64 x_{01} x_{10} + 0.59 x_{01} x_{12} + 5.56 x_{01} x_{20} + 1.98 x_{01} x_{22} + 1.05 x_{02} x_{10} + 0.59 x_{02} x_{11} + 3.54 x_{02} x_{20} + 1.98 x_{02} x_{21}$"
      ],
      "text/plain": [
       "1.64*x00*x11 + 1.05*x00*x12 + 5.56*x00*x21 + 3.54*x00*x22 + 1.64*x01*x10 + 0.59*x01*x12 + 5.56*x01*x20 + 1.98*x01*x22 + 1.05*x02*x10 + 0.59*x02*x11 + 3.54*x02*x20 + 1.98*x02*x21"
      ]
     },
     "execution_count": 16,
     "metadata": {},
     "output_type": "execute_result"
    }
   ],
   "source": [
    "Phi = [(1,0),(2,0)]\n",
    "N=3\n",
    "G = nx.DiGraph()\n",
    "G.add_edges_from(Phi)\n",
    "M = G.number_of_nodes() # Number of parts\n",
    "\n",
    "qubo,symb_dic=cost_symp(tot_coeff,M,N,G)\n",
    "ord_symbs=list(symb_dic.values()) #ordering the symbols for the encoding\n",
    "qubo"
   ]
  },
  {
   "cell_type": "code",
   "execution_count": 17,
   "metadata": {},
   "outputs": [],
   "source": [
    "\n",
    "def QmatrixFromQUBO(qubo,vars):\n",
    "    # No need for the main diagonal due to the qubo PBS cost function (unconstrained)\n",
    "    coeffdict=qubo.as_coefficients_dict()\n",
    "\n",
    "    num_vars=len(vars)\n",
    "    Q_matrix = np.zeros((num_vars, num_vars), dtype=float)\n",
    "\n",
    "    for i,k in enumerate(vars):\n",
    "        for j,z in enumerate(vars):\n",
    "          if i<j: #only upper triangular\n",
    "            Q_matrix[i, j] = coeffdict[k*z]\n",
    "    return Q_matrix"
   ]
  },
  {
   "cell_type": "code",
   "execution_count": 18,
   "metadata": {},
   "outputs": [
    {
     "data": {
      "text/plain": [
       "array([[0.  , 0.  , 0.  , 0.  , 1.64, 1.05, 0.  , 5.56, 3.54],\n",
       "       [0.  , 0.  , 0.  , 1.64, 0.  , 0.59, 5.56, 0.  , 1.98],\n",
       "       [0.  , 0.  , 0.  , 1.05, 0.59, 0.  , 3.54, 1.98, 0.  ],\n",
       "       [0.  , 0.  , 0.  , 0.  , 0.  , 0.  , 0.  , 0.  , 0.  ],\n",
       "       [0.  , 0.  , 0.  , 0.  , 0.  , 0.  , 0.  , 0.  , 0.  ],\n",
       "       [0.  , 0.  , 0.  , 0.  , 0.  , 0.  , 0.  , 0.  , 0.  ],\n",
       "       [0.  , 0.  , 0.  , 0.  , 0.  , 0.  , 0.  , 0.  , 0.  ],\n",
       "       [0.  , 0.  , 0.  , 0.  , 0.  , 0.  , 0.  , 0.  , 0.  ],\n",
       "       [0.  , 0.  , 0.  , 0.  , 0.  , 0.  , 0.  , 0.  , 0.  ]])"
      ]
     },
     "execution_count": 18,
     "metadata": {},
     "output_type": "execute_result"
    }
   ],
   "source": [
    "Q=QmatrixFromQUBO(qubo,ord_symbs)\n",
    "Q"
   ]
  },
  {
   "cell_type": "code",
   "execution_count": 19,
   "metadata": {},
   "outputs": [],
   "source": [
    "\n",
    "def array_create_QUBO_cost_operator(Q):\n",
    "    #Below N is the number of sites of the PBS.\n",
    "\n",
    "    #W.r.t. the other implementation we move from qv[i] to qv[i//N][i%N] since qarg will be a QuantumArray\n",
    "\n",
    "    def array_QUBO_cost_operator(qv, gamma):\n",
    "\n",
    "        gphase(-gamma/4*(np.sum(Q)+np.trace(Q)),qv[0][0])\n",
    "        for i in range(len(Q)):\n",
    "            rz(-gamma/2*(sum(Q[i])+sum(Q[:,i])), qv[i//N][i%N])\n",
    "            for j in range(len(Q)):\n",
    "                if i != j and Q[i][j] != 0:\n",
    "                    rzz(gamma/2*Q[i][j], qv[i//N][i%N], qv[j//N][j%N])\n",
    "    return array_QUBO_cost_operator"
   ]
  },
  {
   "cell_type": "code",
   "execution_count": null,
   "metadata": {},
   "outputs": [],
   "source": [
    "\n",
    "from qrisp.quantum_backtracking import OHQInt\n",
    "\n",
    "qtype = OHQInt(N)\n",
    "q_array = QuantumArray(qtype = qtype, shape = (M))\n",
    "gamma = Symbol(\"gamma\")\n",
    "array_create_QUBO_cost_operator(Q)(q_array,gamma)\n",
    "print(q_array.qs)"
   ]
  },
  {
   "cell_type": "code",
   "execution_count": null,
   "metadata": {},
   "outputs": [],
   "source": [
    "\n",
    "def array_create_QUBO_cl_cost_function():\n",
    "    def array_cl_cost_function(counts):\n",
    "\n",
    "        vars_ = ord_symbs\n",
    "        b_dic=translate_encoding(counts)\n",
    "        cost=0\n",
    "        for k,v in b_dic.items():\n",
    "          qval = qubo.subs({var:s for var, s in zip(vars_, k)})\n",
    "          cost +=  qval * v\n",
    "\n",
    "        return cost\n",
    "\n",
    "    return array_cl_cost_function"
   ]
  }
 ],
 "metadata": {
  "kernelspec": {
   "display_name": ".venv",
   "language": "python",
   "name": "python3"
  },
  "language_info": {
   "codemirror_mode": {
    "name": "ipython",
    "version": 3
   },
   "file_extension": ".py",
   "mimetype": "text/x-python",
   "name": "python",
   "nbconvert_exporter": "python",
   "pygments_lexer": "ipython3",
   "version": "3.9.6"
  }
 },
 "nbformat": 4,
 "nbformat_minor": 2
}
