{
 "cells": [
  {
   "cell_type": "code",
   "execution_count": 1,
   "id": "a939ae0c",
   "metadata": {},
   "outputs": [],
   "source": [
    "\n",
    "from qrisp import *\n",
    "from qrisp.qaoa import *\n",
    "\n",
    "class OHQInt(QuantumVariable):\n",
    "\n",
    "    def decoder(self, i):\n",
    "\n",
    "        is_power_of_two = ((i & (i-1) == 0) and i != 0)\n",
    "\n",
    "        if is_power_of_two:\n",
    "            return int(np.log2(i))\n",
    "\n",
    "        else:\n",
    "            return -3\n",
    "\n",
    "    def __eq__(self, other):\n",
    "\n",
    "        if isinstance(other, int):\n",
    "\n",
    "            self.encoder(other)\n",
    "\n",
    "            eq_qbl = QuantumBool()\n",
    "\n",
    "            cx(self[other], eq_qbl)\n",
    "            return eq_qbl\n",
    "\n",
    "        else:\n",
    "            raise Exception(\n",
    "                f\"Comparison with type {type(other)} not implemented\")\n",
    "\n",
    "    __hash__ = QuantumVariable.__hash__\n",
    "\n",
    "    def is_even(self):\n",
    "        is_even = QuantumBool()\n",
    "\n",
    "        for i in range(self.size):\n",
    "            if not i % 2:\n",
    "                cx(self[i], is_even)\n",
    "\n",
    "\n",
    "        return is_even\n",
    "\n",
    "    def is_odd(self):\n",
    "        is_odd = QuantumBool()\n",
    "\n",
    "        for i in range(self.size):\n",
    "            if i % 2:\n",
    "                cx(self[i], is_odd)\n",
    "\n",
    "        return is_odd\n",
    "    \n",
    "    def __lt__(self, other):\n",
    "        \n",
    "        if isinstance(other, int):\n",
    "            less_than = QuantumBool()\n",
    "            for i in range(self.size):\n",
    "                if i < other:\n",
    "                    cx(self[i], less_than)\n",
    "            return less_than\n",
    "        \n",
    "        else:\n",
    "            raise Exception(f\"Comparison for type {type(other)} not implemented\")\n",
    "\n",
    "\n",
    "import numpy as np\n",
    "import networkx as nx\n",
    "import matplotlib.pyplot as plt\n",
    "\n",
    "\n",
    "def W(qv,n):\n",
    "    \"\"\"\n",
    "    This algorithms prepares tensor product of a (paraqmetrized) W-state of the first n>=1 qubits of the QuantumVariable qv and the |0> state for the remaining qubits.\n",
    "    We call such a state a partial W-state of size n.\n",
    "\n",
    "    Parameters\n",
    "    ----------\n",
    "    qv : QuantumVariable\n",
    "        A QuantumVariable of N qubits.\n",
    "    n : int\n",
    "        The index n.\n",
    "\n",
    "    \"\"\"\n",
    "    x(qv[0])\n",
    "    for i in range(1,n):\n",
    "        phi = 2*np.arcsin(1/np.sqrt(n+1-i)) # Phi for uniform superposition\n",
    "        xxyy(phi,np.pi/2,qv[0],qv[i]) \n",
    "\n",
    "\n",
    "def transform(qv1, qv2, n):\n",
    "    \"\"\"\n",
    "    This algorithm prepares a state of two QuantumVariables qv1, qv2 that is a superposition of all tensor products of basis states of length N with exactly one \"1\" in the first n qubits, such that \n",
    "    the QuantemVariables qv1, qv2 are never in the same state. \n",
    "    For example: qv1: |10>+|01>, qv2: |10> --->>> |10>|01> + |01>|10>. Here, the states |01>|01> and |10>|10> are forbidden.\n",
    "\n",
    "    Parameters\n",
    "    ----------\n",
    "    qv1 : QuantumVariable\n",
    "        N-qubit state that is a tensor product of a (parametrized) W-state of qubits q[0]...q[n] and the |0> state of qubits q[n+1]...q[N-1]\n",
    "    qv2 : QuantumVariable\n",
    "        N-qubit state that is a tensor product of a (parametrized) W-state of qubits q[0]...q[n-1] and |0> state of qubits q[n]...q[N-1]\n",
    "    n : int\n",
    "        The index n.\n",
    "\n",
    "    \"\"\"\n",
    "    for i in range(n):\n",
    "        with control(qv1[i]):\n",
    "            xxyy(np.pi,np.pi/2,qv2[i],qv2[n]) # Swap the \"1\"\n",
    "\n",
    "\n",
    "def state(graph, root, N):\n",
    "    \"\"\"\n",
    "    This algorithm prepares a superposition state of all feasible solutions for a product breakdown structure (PBS) problem.\n",
    "    We call this state the PBS superposition state. For this, it utilizes the PBS tree structure: A node (part) and all its (direct) predecessors can never be in the same state (site).\n",
    "\n",
    "    Parameters\n",
    "    ----------\n",
    "    graph : networkx.DiGraph\n",
    "        The directed graph representing the PBS.\n",
    "    root : int\n",
    "        The root of the graph.\n",
    "    N : int\n",
    "        The number sites.\n",
    "\n",
    "    \"\"\"\n",
    "    M = graph.number_of_nodes()\n",
    "    qtype = OHQInt(N)\n",
    "    q_array = QuantumArray(qtype = qtype, shape = (1,M))\n",
    "\n",
    "    W(q_array[0][root-1],N)\n",
    "    add_predecessors(graph, root, N ,q_array)\n",
    "\n",
    "    return q_array\n",
    "\n",
    "\n",
    "def add_predecessors(graph, node, N, q_array):\n",
    "    \"\"\"\n",
    "    A recursive algorithm to add predecessors of a node to the PBS superposition state\n",
    "\n",
    "    Parameters\n",
    "    ----------\n",
    "    graph : networkx.DiGraph\n",
    "        The directed graph representing the PBS.\n",
    "    node : int\n",
    "        The current node.\n",
    "    N : int\n",
    "        The number sites.\n",
    "    q_array : QuantumArray\n",
    "        The QuantumArray representing the PBS superposition state.\n",
    "\n",
    "    \"\"\"\n",
    "    predecessors = list(PBS_graph.predecessors(node))\n",
    "    #print(predecessors)\n",
    "    m = len(predecessors)\n",
    "    if(N<m+1):\n",
    "        raise Exception(\n",
    "                \"Insufficient number of sites N\"\n",
    "        )\n",
    "\n",
    "    # Prepare states for predecessors (partial W-states of decreasing size n)\n",
    "    for i in range(m):\n",
    "        W(q_array[0][predecessors[i]-1],N-1-i)\n",
    "\n",
    "    # Create entangled state of predecessors that does satisfy constraints\n",
    "    for i in range(m-2,-1,-1):\n",
    "        for j in range(i+1,m):\n",
    "            #print(\"i: \" + str(i) + \" j: \"+str(j) + \" index: \" + str(N-2-i))\n",
    "            transform(q_array[0][predecessors[i]-1],q_array[0][predecessors[j]-1],N-2-i)\n",
    "    \n",
    "    # Create entangled state of predecessors and node that does satisfy constraints\n",
    "    for j in range(m):\n",
    "        transform(q_array[0][node-1],q_array[0][predecessors[j]-1],N-1)\n",
    "\n",
    "    # Recursivley add predecessors\n",
    "    for pred in predecessors:\n",
    "        add_predecessors(graph, pred, N ,q_array)\n"
   ]
  },
  {
   "cell_type": "code",
   "execution_count": 23,
   "id": "1df6216e",
   "metadata": {},
   "outputs": [
    {
     "data": {
      "image/png": "[encoded data removed]",
      "text/plain": [
       "<Figure size 640x480 with 1 Axes>"
      ]
     },
     "metadata": {},
     "output_type": "display_data"
    }
   ],
   "source": [
    "# Define PBS by Phi:\n",
    "#Phi=[(2,1),(3,1),(4,1),(5,2),(6,2),(7,2),(8,3),(9,4),(10,4)]\n",
    "#Phi = [(2,1),(3,1),(4,1),(5,2)]\n",
    "#Phi = [(2,1),(3,1)]\n",
    "Phi = [(2,1),(3,1),(4,2)]\n",
    "root = 1\n",
    "\n",
    "PBS_graph = nx.DiGraph()\n",
    "PBS_graph.add_edges_from(Phi)\n",
    "M = PBS_graph.number_of_nodes() # Number of parts\n",
    "\n",
    "nx.draw(PBS_graph, with_labels=True)"
   ]
  },
  {
   "cell_type": "code",
   "execution_count": 26,
   "id": "b443ae24",
   "metadata": {},
   "outputs": [
    {
     "name": "stdout",
     "output_type": "stream",
     "text": [
      "                                                                                     \u001b[2K\r"
     ]
    },
    {
     "data": {
      "text/latex": [
       "$\\displaystyle 0.28867 {\\left|0\\right\\rangle } {\\left|1\\right\\rangle } {\\left|2\\right\\rangle } {\\left|0\\right\\rangle } + 0.28867 {\\left|0\\right\\rangle } {\\left|1\\right\\rangle } {\\left|2\\right\\rangle }^{2} + 0.28867 {\\left|0\\right\\rangle } {\\left|2\\right\\rangle } {\\left|1\\right\\rangle } {\\left|0\\right\\rangle } + 0.28867 {\\left|0\\right\\rangle } {\\left|2\\right\\rangle } {\\left|1\\right\\rangle }^{2} + 0.28867 {\\left|1\\right\\rangle } {\\left|0\\right\\rangle } {\\left|2\\right\\rangle } {\\left|1\\right\\rangle } + 0.28867 {\\left|1\\right\\rangle } {\\left|0\\right\\rangle } {\\left|2\\right\\rangle }^{2} + 0.28867 {\\left|1\\right\\rangle } {\\left|2\\right\\rangle } {\\left|0\\right\\rangle } {\\left|1\\right\\rangle } + 0.28867 {\\left|1\\right\\rangle } {\\left|2\\right\\rangle } {\\left|0\\right\\rangle }^{2} + 0.28867 {\\left|2\\right\\rangle } {\\left|0\\right\\rangle } {\\left|1\\right\\rangle } {\\left|2\\right\\rangle } + 0.28867 {\\left|2\\right\\rangle } {\\left|0\\right\\rangle } {\\left|1\\right\\rangle }^{2} + 0.28867 {\\left|2\\right\\rangle } {\\left|1\\right\\rangle } {\\left|0\\right\\rangle } {\\left|2\\right\\rangle } + 0.28867 {\\left|2\\right\\rangle } {\\left|1\\right\\rangle } {\\left|0\\right\\rangle }^{2}$"
      ],
      "text/plain": [
       "0.28867*|0>*|1>*|2>*|0> + 0.28867*|0>*|1>*|2>**2 + 0.28867*|0>*|2>*|1>*|0> + 0.28867*|0>*|2>*|1>**2 + 0.28867*|1>*|0>*|2>*|1> + 0.28867*|1>*|0>*|2>**2 + 0.28867*|1>*|2>*|0>*|1> + 0.28867*|1>*|2>*|0>**2 + 0.28867*|2>*|0>*|1>*|2> + 0.28867*|2>*|0>*|1>**2 + 0.28867*|2>*|1>*|0>*|2> + 0.28867*|2>*|1>*|0>**2"
      ]
     },
     "execution_count": 26,
     "metadata": {},
     "output_type": "execute_result"
    }
   ],
   "source": [
    "test = state(PBS_graph, 1, 3)\n",
    "test.qs.statevector(decimals=5)"
   ]
  },
  {
   "cell_type": "code",
   "execution_count": 27,
   "id": "d5c77abd",
   "metadata": {},
   "outputs": [
    {
     "name": "stdout",
     "output_type": "stream",
     "text": [
      "Simulating 12 qubits.. |                                                     | [  0%]"
     ]
    },
    {
     "name": "stdout",
     "output_type": "stream",
     "text": [
      "                                                                                     \u001b[2K\r"
     ]
    },
    {
     "data": {
      "text/plain": [
       "0"
      ]
     },
     "execution_count": 27,
     "metadata": {},
     "output_type": "execute_result"
    }
   ],
   "source": [
    "####################\n",
    "# TESTING\n",
    "####################\n",
    "\n",
    "# Generate Psi from PBS graph: direct subparts of a part cannot be manufactured at the same site\n",
    "Psi=[]\n",
    "for node in PBS_graph:\n",
    "    predecessors = list(PBS_graph.predecessors(node))\n",
    "    m = len(predecessors)\n",
    "    for i in range(m-1):\n",
    "        for j in range(i+1,m):\n",
    "            Psi.append((predecessors[i],predecessors[j]))\n",
    "\n",
    "# Get measurement results\n",
    "meas_res=test.get_measurement()\n",
    "\n",
    "# Compute the overlap of the prepared state the the not allowd subspace (result should be 0)\n",
    "not_allowed = 0\n",
    "for res,prob in meas_res.items():\n",
    "    curr = res[0]\n",
    "    # Check all constraints for Phi and Psi\n",
    "    for phi in Phi+Psi:\n",
    "        if(curr[phi[0]-1]==curr[phi[1]-1]):\n",
    "            not_allowed+=prob\n",
    "            break\n",
    "\n",
    "not_allowed"
   ]
  },
  {
   "cell_type": "code",
   "execution_count": null,
   "id": "199a59d3",
   "metadata": {},
   "outputs": [],
   "source": []
  },
  {
   "cell_type": "code",
   "execution_count": null,
   "id": "2750447f",
   "metadata": {},
   "outputs": [],
   "source": []
  },
  {
   "cell_type": "code",
   "execution_count": null,
   "id": "d34e54a1",
   "metadata": {},
   "outputs": [],
   "source": []
  }
 ],
 "metadata": {
  "kernelspec": {
   "display_name": "Python 3 (ipykernel)",
   "language": "python",
   "name": "python3"
  },
  "language_info": {
   "codemirror_mode": {
    "name": "ipython",
    "version": 3
   },
   "file_extension": ".py",
   "mimetype": "text/x-python",
   "name": "python",
   "nbconvert_exporter": "python",
   "pygments_lexer": "ipython3",
   "version": "3.10.13"
  }
 },
 "nbformat": 4,
 "nbformat_minor": 5
}
