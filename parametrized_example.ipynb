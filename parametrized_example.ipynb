{
 "cells": [
  {
   "cell_type": "code",
   "execution_count": 2,
   "id": "a939ae0c",
   "metadata": {},
   "outputs": [
    {
     "name": "stdout",
     "output_type": "stream",
     "text": [
      "{0: [2.8217747801080564, 1.3421362128807677, 1.2789100045016686], 1: [3.699524615802319, 3.3078712269851027], 2: [3.8131787715166765], 3: []}\n"
     ]
    }
   ],
   "source": [
    "from qrisp import *\n",
    "from qrisp.quantum_backtracking import OHQInt\n",
    "from zander_preparation_parametrized import *\n",
    "\n",
    "import numpy as np\n",
    "import networkx as nx\n",
    "\n",
    "#Phi = [(1,0),(2,0),(3,0),(4,1),(5,1),(6,3),(7,2)]\n",
    "Phi = [(1,0),(2,0),(3,0)]\n",
    "\n",
    "G = nx.DiGraph()\n",
    "G.add_edges_from(Phi)\n",
    "M = G.number_of_nodes() # Number of parts\n",
    "\n",
    "#nx.draw(G, with_labels=True)\n",
    "\n",
    "N = 4\n",
    "qtype = OHQInt(N)\n",
    "q_array = QuantumArray(qtype = qtype, shape = (M))\n",
    "\n",
    "# Return a dictionary containing a list of (random, between 0 and 2*pi) parameters for each node\n",
    "params = init_params(G, 0, N)\n",
    "print(params)\n",
    "\n",
    "state = prepare_pbs_state(G, 0, N, q_array, params)\n"
   ]
  },
  {
   "cell_type": "code",
   "execution_count": 3,
   "id": "0e42dac2",
   "metadata": {},
   "outputs": [
    {
     "name": "stdout",
     "output_type": "stream",
     "text": [
      "                                                                                     \u001b[2K\r"
     ]
    },
    {
     "data": {
      "text/plain": [
       "{OutcomeArray([1, 3, 2, 0], dtype=object): 0.8029,\n",
       " OutcomeArray([1, 3, 0, 2], dtype=object): 0.0978,\n",
       " OutcomeArray([1, 2, 3, 0], dtype=object): 0.0654,\n",
       " OutcomeArray([0, 1, 2, 3], dtype=object): 0.0082,\n",
       " OutcomeArray([2, 1, 3, 0], dtype=object): 0.0081,\n",
       " OutcomeArray([1, 2, 0, 3], dtype=object): 0.008,\n",
       " OutcomeArray([3, 1, 2, 0], dtype=object): 0.0046,\n",
       " OutcomeArray([0, 1, 3, 2], dtype=object): 0.001,\n",
       " OutcomeArray([2, 1, 0, 3], dtype=object): 0.001,\n",
       " OutcomeArray([0, 2, 1, 3], dtype=object): 0.0007,\n",
       " OutcomeArray([2, 3, 1, 0], dtype=object): 0.0007,\n",
       " OutcomeArray([3, 1, 0, 2], dtype=object): 0.0006,\n",
       " OutcomeArray([1, 0, 3, 2], dtype=object): 0.0005,\n",
       " OutcomeArray([3, 2, 1, 0], dtype=object): 0.0004,\n",
       " OutcomeArray([0, 2, 3, 1], dtype=object): 0.0001,\n",
       " OutcomeArray([1, 0, 2, 3], dtype=object): 0.0001,\n",
       " OutcomeArray([2, 3, 0, 1], dtype=object): 0.0001,\n",
       " OutcomeArray([0, 3, 1, 2], dtype=object): 0.0,\n",
       " OutcomeArray([0, 3, 2, 1], dtype=object): 0.0,\n",
       " OutcomeArray([2, 0, 1, 3], dtype=object): 0.0,\n",
       " OutcomeArray([2, 0, 3, 1], dtype=object): 0.0,\n",
       " OutcomeArray([3, 0, 1, 2], dtype=object): 0.0,\n",
       " OutcomeArray([3, 0, 2, 1], dtype=object): 0.0,\n",
       " OutcomeArray([3, 2, 0, 1], dtype=object): 0.0}"
      ]
     },
     "execution_count": 3,
     "metadata": {},
     "output_type": "execute_result"
    }
   ],
   "source": [
    "meas_res=state.get_measurement()\n",
    "meas_res"
   ]
  },
  {
   "cell_type": "code",
   "execution_count": null,
   "id": "985a9cb7",
   "metadata": {},
   "outputs": [],
   "source": []
  },
  {
   "cell_type": "code",
   "execution_count": null,
   "id": "88b17db6",
   "metadata": {},
   "outputs": [],
   "source": []
  }
 ],
 "metadata": {
  "kernelspec": {
   "display_name": "Python 3 (ipykernel)",
   "language": "python",
   "name": "python3"
  },
  "language_info": {
   "codemirror_mode": {
    "name": "ipython",
    "version": 3
   },
   "file_extension": ".py",
   "mimetype": "text/x-python",
   "name": "python",
   "nbconvert_exporter": "python",
   "pygments_lexer": "ipython3",
   "version": "3.10.13"
  }
 },
 "nbformat": 4,
 "nbformat_minor": 5
}
