{
 "cells": [
  {
   "cell_type": "code",
   "execution_count": 1,
   "metadata": {},
   "outputs": [
    {
     "name": "stderr",
     "output_type": "stream",
     "text": [
      "/Users/matteoantonioinajetovic/AirbusBMWChallenge/.venv/lib/python3.9/site-packages/urllib3/__init__.py:35: NotOpenSSLWarning: urllib3 v2 only supports OpenSSL 1.1.1+, currently the 'ssl' module is compiled with 'LibreSSL 2.8.3'. See: https://github.com/urllib3/urllib3/issues/3020\n",
      "  warnings.warn(\n"
     ]
    }
   ],
   "source": [
    "from zander_preparation_parametrized import *\n",
    "from qrisp.quantum_backtracking import OHQInt\n",
    "from qrisp import QuantumArray\n",
    "from classical_cost_func import cost_function, format_coeffs, new_cost_function, cost_symp\n",
    "import numpy as np\n",
    "import matplotlib.pyplot as plt\n",
    "from phase_polynomial import *\n",
    "from mixer_workaround import * \n",
    "from qrisp.qaoa import *\n",
    "\n",
    "\n",
    "from encode_BMW_problem import PBS_graph, N, M, cost_coeff"
   ]
  },
  {
   "cell_type": "code",
   "execution_count": 2,
   "metadata": {},
   "outputs": [],
   "source": [
    "tot_coeff = format_coeffs(cost_coeff, N )\n",
    "\n",
    "qtype = OHQInt(N)\n",
    "q_array = QuantumArray(qtype = qtype, shape = (M))\n",
    "\n",
    "#cost op\n",
    "P,S = cost_symp(tot_coeff,M,N,PBS_graph)\n",
    "ord_symbs=list(S.values())\n",
    "\n",
    "def cost_op(q_array, gamma):\n",
    "    app_sb_phase_polynomial(q_array, -gamma*P, ord_symbs)\n",
    "\n",
    "#init func\n",
    "init_func = pbs_state_init(PBS_graph, 0 , N)\n",
    "\n",
    "#mixer\n",
    "mixer_op = mixer(PBS_graph,0,N)\n",
    "\n",
    "#classical cost function\n",
    "values = []\n",
    "cl_cost = new_cost_function(tot_coeff,M,N,PBS_graph,values)\n",
    "\n",
    "# run the QAOA\n",
    "qaoaPBS = QAOAProblem(cost_operator=cost_op ,mixer=mixer_op, cl_cost_function=cl_cost)\n",
    "qaoaPBS.set_init_function(init_func)\n",
    "depth = 2#int(np.log2(M*N))"
   ]
  },
  {
   "cell_type": "code",
   "execution_count": 3,
   "metadata": {},
   "outputs": [],
   "source": [
    "circ,symbols=qaoaPBS.compile_circuit(q_array,depth)"
   ]
  },
  {
   "cell_type": "code",
   "execution_count": 4,
   "metadata": {},
   "outputs": [],
   "source": [
    "def evaluate_cost(theta,symbols):\n",
    "    subs_dic = {symbols[i] : theta[i] for i in range(len(symbols))}\n",
    "    res_dic = q_array.get_measurement(subs_dic = subs_dic, precompiled_qc = circ)\n",
    "    cost = cl_cost(res_dic)\n",
    "    return cost"
   ]
  },
  {
   "cell_type": "code",
   "execution_count": 5,
   "metadata": {},
   "outputs": [],
   "source": [
    "def finite_diff(theta,index,gb,eps=.2):\n",
    "    #inspired by qiskit  \n",
    "    e_i = np.identity(theta.size)[:, index]\n",
    "    plus = theta + eps * e_i\n",
    "    minus = theta - eps * e_i\n",
    "    grad = (evaluate_cost(plus,gb) - evaluate_cost(minus,gb)) / (2 * eps)\n",
    "    return grad"
   ]
  },
  {
   "cell_type": "code",
   "execution_count": 6,
   "metadata": {},
   "outputs": [],
   "source": [
    "\n",
    "def compute_gradients(gb, grad_func, num_samples=10):\n",
    "    grads = []\n",
    "    index = len(gb)-1 # wrt last parameter\n",
    "\n",
    "    for _ in range(num_samples): #sampling from random samples\n",
    "        theta = 2*np.pi* np.random.rand(len(gb)) \n",
    "        grad = grad_func(theta,index,gb)\n",
    "        grads.append(grad)\n",
    "    grads = np.array(grads)\n",
    "    return grads"
   ]
  },
  {
   "cell_type": "code",
   "execution_count": null,
   "metadata": {},
   "outputs": [],
   "source": [
    "gradients=compute_gradients(symbols,finite_diff,100)"
   ]
  },
  {
   "cell_type": "code",
   "execution_count": 8,
   "metadata": {},
   "outputs": [
    {
     "data": {
      "text/plain": [
       "0.14037471189217812"
      ]
     },
     "execution_count": 8,
     "metadata": {},
     "output_type": "execute_result"
    }
   ],
   "source": [
    "np.var(gradients)"
   ]
  }
 ],
 "metadata": {
  "kernelspec": {
   "display_name": ".venv",
   "language": "python",
   "name": "python3"
  },
  "language_info": {
   "codemirror_mode": {
    "name": "ipython",
    "version": 3
   },
   "file_extension": ".py",
   "mimetype": "text/x-python",
   "name": "python",
   "nbconvert_exporter": "python",
   "pygments_lexer": "ipython3",
   "version": "3.9.6"
  }
 },
 "nbformat": 4,
 "nbformat_minor": 2
}
